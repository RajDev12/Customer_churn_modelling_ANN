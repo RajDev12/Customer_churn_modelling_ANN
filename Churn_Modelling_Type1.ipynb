{
  "cells": [
    {
      "cell_type": "code",
      "execution_count": null,
      "metadata": {
        "id": "2_w1GOwcddc0"
      },
      "outputs": [],
      "source": []
    },
    {
      "cell_type": "code",
      "execution_count": null,
      "metadata": {
        "_cell_guid": "b1076dfc-b9ad-4769-8c92-a6c4dae69d19",
        "_uuid": "8f2839f25d086af736a60e9eeb907d3b93b6e0e5",
        "execution": {
          "iopub.execute_input": "2022-03-06T03:32:33.905991Z",
          "iopub.status.busy": "2022-03-06T03:32:33.905585Z",
          "iopub.status.idle": "2022-03-06T03:32:33.939484Z",
          "shell.execute_reply": "2022-03-06T03:32:33.93888Z",
          "shell.execute_reply.started": "2022-03-06T03:32:33.905892Z"
        },
        "id": "lqSUPaKCddc5",
        "trusted": true
      },
      "outputs": [],
      "source": [
        "\n",
        "import numpy as np # linear algebra\n",
        "import pandas as pd # data processing, CSV file I/O (e.g. pd.read_csv)\n"
      ]
    },
    {
      "cell_type": "code",
      "execution_count": null,
      "metadata": {
        "execution": {
          "iopub.execute_input": "2022-03-06T03:32:56.586925Z",
          "iopub.status.busy": "2022-03-06T03:32:56.586618Z",
          "iopub.status.idle": "2022-03-06T03:32:56.633466Z",
          "shell.execute_reply": "2022-03-06T03:32:56.632634Z",
          "shell.execute_reply.started": "2022-03-06T03:32:56.586892Z"
        },
        "id": "xV66iJ2zddc6",
        "trusted": true
      },
      "outputs": [],
      "source": [
        "df = pd.read_csv('Churn_Modelling')"
      ]
    },
    {
      "cell_type": "code",
      "execution_count": null,
      "metadata": {
        "execution": {
          "iopub.execute_input": "2022-03-06T03:33:04.565582Z",
          "iopub.status.busy": "2022-03-06T03:33:04.565302Z",
          "iopub.status.idle": "2022-03-06T03:33:04.590711Z",
          "shell.execute_reply": "2022-03-06T03:33:04.590106Z",
          "shell.execute_reply.started": "2022-03-06T03:33:04.565552Z"
        },
        "id": "0woe6B5Iddc7",
        "trusted": true
      },
      "outputs": [],
      "source": [
        "df.head()"
      ]
    },
    {
      "cell_type": "code",
      "execution_count": null,
      "metadata": {
        "execution": {
          "iopub.execute_input": "2022-03-06T03:33:16.956409Z",
          "iopub.status.busy": "2022-03-06T03:33:16.956107Z",
          "iopub.status.idle": "2022-03-06T03:33:16.969099Z",
          "shell.execute_reply": "2022-03-06T03:33:16.968191Z",
          "shell.execute_reply.started": "2022-03-06T03:33:16.956376Z"
        },
        "id": "c6FeHgteddc7",
        "trusted": true
      },
      "outputs": [],
      "source": [
        "df.drop(columns = ['RowNumber','CustomerId','Surname'],inplace=True)"
      ]
    },
    {
      "cell_type": "code",
      "execution_count": null,
      "metadata": {
        "execution": {
          "iopub.execute_input": "2022-03-06T03:33:25.597651Z",
          "iopub.status.busy": "2022-03-06T03:33:25.596737Z",
          "iopub.status.idle": "2022-03-06T03:33:25.613054Z",
          "shell.execute_reply": "2022-03-06T03:33:25.612113Z",
          "shell.execute_reply.started": "2022-03-06T03:33:25.597603Z"
        },
        "id": "VuDJIksGddc8",
        "trusted": true
      },
      "outputs": [],
      "source": [
        "df.head()"
      ]
    },
    {
      "cell_type": "code",
      "execution_count": null,
      "metadata": {
        "execution": {
          "iopub.execute_input": "2022-03-06T03:33:36.321542Z",
          "iopub.status.busy": "2022-03-06T03:33:36.320838Z",
          "iopub.status.idle": "2022-03-06T03:33:36.333826Z",
          "shell.execute_reply": "2022-03-06T03:33:36.333097Z",
          "shell.execute_reply.started": "2022-03-06T03:33:36.321507Z"
        },
        "id": "GwfFQR7Xddc8",
        "trusted": true
      },
      "outputs": [],
      "source": [
        "df['Geography'].value_counts()"
      ]
    },
    {
      "cell_type": "code",
      "execution_count": null,
      "metadata": {
        "execution": {
          "iopub.execute_input": "2022-03-06T03:33:45.386793Z",
          "iopub.status.busy": "2022-03-06T03:33:45.385967Z",
          "iopub.status.idle": "2022-03-06T03:33:45.39533Z",
          "shell.execute_reply": "2022-03-06T03:33:45.394438Z",
          "shell.execute_reply.started": "2022-03-06T03:33:45.386756Z"
        },
        "id": "J2pcX2Cvddc9",
        "trusted": true
      },
      "outputs": [],
      "source": [
        "df['Gender'].value_counts()"
      ]
    },
    {
      "cell_type": "code",
      "execution_count": null,
      "metadata": {
        "execution": {
          "iopub.execute_input": "2022-03-06T03:33:54.382275Z",
          "iopub.status.busy": "2022-03-06T03:33:54.381775Z",
          "iopub.status.idle": "2022-03-06T03:33:54.399399Z",
          "shell.execute_reply": "2022-03-06T03:33:54.398368Z",
          "shell.execute_reply.started": "2022-03-06T03:33:54.382234Z"
        },
        "id": "KMSdMsbXddc-",
        "trusted": true
      },
      "outputs": [],
      "source": [
        "df = pd.get_dummies(df,columns=['Geography','Gender'],drop_first=True)"
      ]
    },
    {
      "cell_type": "code",
      "execution_count": null,
      "metadata": {
        "execution": {
          "iopub.execute_input": "2022-03-06T03:34:05.465611Z",
          "iopub.status.busy": "2022-03-06T03:34:05.465041Z",
          "iopub.status.idle": "2022-03-06T03:34:05.481994Z",
          "shell.execute_reply": "2022-03-06T03:34:05.481205Z",
          "shell.execute_reply.started": "2022-03-06T03:34:05.465567Z"
        },
        "id": "CdU16sBpddc_",
        "trusted": true
      },
      "outputs": [],
      "source": [
        "df.head()"
      ]
    },
    {
      "cell_type": "code",
      "execution_count": null,
      "metadata": {
        "execution": {
          "iopub.execute_input": "2022-03-06T03:34:15.21198Z",
          "iopub.status.busy": "2022-03-06T03:34:15.211214Z",
          "iopub.status.idle": "2022-03-06T03:34:16.378692Z",
          "shell.execute_reply": "2022-03-06T03:34:16.377875Z",
          "shell.execute_reply.started": "2022-03-06T03:34:15.211936Z"
        },
        "id": "DzyODNy-dddA",
        "trusted": true
      },
      "outputs": [],
      "source": [
        "X = df.drop(columns=['Exited'])\n",
        "y = df['Exited'].values\n",
        "\n",
        "from sklearn.model_selection import train_test_split\n",
        "X_train,X_test,y_train,y_test = train_test_split(X,y,test_size=0.2,random_state=0)"
      ]
    },
    {
      "cell_type": "code",
      "execution_count": null,
      "metadata": {
        "execution": {
          "iopub.execute_input": "2022-03-06T03:34:23.642185Z",
          "iopub.status.busy": "2022-03-06T03:34:23.641345Z",
          "iopub.status.idle": "2022-03-06T03:34:23.656143Z",
          "shell.execute_reply": "2022-03-06T03:34:23.655395Z",
          "shell.execute_reply.started": "2022-03-06T03:34:23.642134Z"
        },
        "id": "Eik4F1nTdddA",
        "trusted": true
      },
      "outputs": [],
      "source": [
        "from sklearn.preprocessing import StandardScaler\n",
        "scaler = StandardScaler()\n",
        "\n",
        "X_train_trf = scaler.fit_transform(X_train)\n",
        "X_test_trf = scaler.transform(X_test)"
      ]
    },
    {
      "cell_type": "code",
      "execution_count": null,
      "metadata": {
        "execution": {
          "iopub.execute_input": "2022-03-06T03:34:31.132229Z",
          "iopub.status.busy": "2022-03-06T03:34:31.131533Z",
          "iopub.status.idle": "2022-03-06T03:34:37.43553Z",
          "shell.execute_reply": "2022-03-06T03:34:37.434835Z",
          "shell.execute_reply.started": "2022-03-06T03:34:31.132167Z"
        },
        "id": "86U_4cE6dddB",
        "trusted": true
      },
      "outputs": [],
      "source": [
        "import tensorflow\n",
        "from tensorflow import keras\n",
        "from tensorflow.keras import Sequential\n",
        "from tensorflow.keras.layers import Dense"
      ]
    },
    {
      "cell_type": "code",
      "execution_count": null,
      "metadata": {
        "execution": {
          "iopub.execute_input": "2022-03-06T03:34:37.826813Z",
          "iopub.status.busy": "2022-03-06T03:34:37.82632Z",
          "iopub.status.idle": "2022-03-06T03:34:37.947521Z",
          "shell.execute_reply": "2022-03-06T03:34:37.94658Z",
          "shell.execute_reply.started": "2022-03-06T03:34:37.826746Z"
        },
        "id": "3Z5ZOX-VdddC",
        "trusted": true
      },
      "outputs": [],
      "source": [
        "model.add(Dense(3,activation='sigmoid',input_dim=11))\n",
        "\n",
        "model.add(Dense(1,activation='sigmoid'))"
      ]
    },
    {
      "cell_type": "code",
      "execution_count": null,
      "metadata": {},
      "outputs": [],
      "source": [
        "#How to change the structure/perfromance of neural networks\n",
        "#1.increase epoch , bigger value will lead to overfitting \n",
        "#2. adding another hidden layer\n",
        "#.3 adding more nodes in a layer\n",
        "#.4 changing the activation function function to reLu , most favourable performance\n",
        "\n",
        "\n",
        "#  model = Sequential()\n",
        "\n",
        "# model.add(Dense(11,activation='relu',input_dim=11))\n",
        "# model.add(Dense(11,activation='relu'))\n",
        "# model.add(Dense(1,activation='sigmoid'))"
      ]
    },
    {
      "cell_type": "code",
      "execution_count": null,
      "metadata": {
        "execution": {
          "iopub.execute_input": "2022-03-06T03:34:51.251022Z",
          "iopub.status.busy": "2022-03-06T03:34:51.250291Z",
          "iopub.status.idle": "2022-03-06T03:34:51.258677Z",
          "shell.execute_reply": "2022-03-06T03:34:51.257596Z",
          "shell.execute_reply.started": "2022-03-06T03:34:51.250979Z"
        },
        "id": "w-GumcmJdddC",
        "trusted": true
      },
      "outputs": [],
      "source": [
        "model.summary()"
      ]
    },
    {
      "cell_type": "code",
      "execution_count": null,
      "metadata": {
        "execution": {
          "iopub.execute_input": "2022-03-06T03:34:59.301604Z",
          "iopub.status.busy": "2022-03-06T03:34:59.301333Z",
          "iopub.status.idle": "2022-03-06T03:34:59.315593Z",
          "shell.execute_reply": "2022-03-06T03:34:59.314884Z",
          "shell.execute_reply.started": "2022-03-06T03:34:59.301574Z"
        },
        "id": "b68-mIYbdddC",
        "trusted": true
      },
      "outputs": [],
      "source": [
        "model.compile(optimizer='Adam',loss='binary_crossentropy')"
      ]
    },
    {
      "cell_type": "code",
      "execution_count": null,
      "metadata": {},
      "outputs": [],
      "source": [
        "#To show the accuracy in each epoch along with loss(default)\n",
        "# model.compile(optimizer='Adam',loss='binary_crossentropy',metrics=['accuracy'])"
      ]
    },
    {
      "cell_type": "code",
      "execution_count": null,
      "metadata": {
        "execution": {
          "iopub.execute_input": "2022-03-06T03:35:50.902485Z",
          "iopub.status.busy": "2022-03-06T03:35:50.901904Z",
          "iopub.status.idle": "2022-03-06T03:36:19.45562Z",
          "shell.execute_reply": "2022-03-06T03:36:19.454726Z",
          "shell.execute_reply.started": "2022-03-06T03:35:50.902437Z"
        },
        "id": "pJLB6FCZdddD",
        "trusted": true
      },
      "outputs": [],
      "source": [
        "model.fit(X_train,y_train,epochs=10,)"
      ]
    },
    {
      "cell_type": "code",
      "execution_count": null,
      "metadata": {},
      "outputs": [],
      "source": [
        "#Validation split =0.2    > At the time of training\n",
        "# test size was 80% i.e 8000\n",
        "#model will train on 8000-20% \n",
        "#and model will test on rest 20% of remaining data\n",
        "#now it will show the loss and accuracy  on validation split i.e 20%\n",
        "#both the train and validation accuracy increase, if my train accuracy increases but the val_accuracy decrease then model will be overfit\n",
        "\n",
        "model.fit(X_train,y_train,batch_size=50,epochs=100,verbose=1,validation_split=0.2)"
      ]
    },
    {
      "cell_type": "code",
      "execution_count": null,
      "metadata": {},
      "outputs": [],
      "source": [
        "# TO plot graph store the model.fit in a dictionary\n",
        "history = model.fit(X_train,y_train,batch_size=50,epochs=100,verbose=1,validation_split=0.2)\n",
        "history.history  #four key value pairs are there in the dictionary\n",
        "#loss,accuracy,val loss, val accuracy"
      ]
    },
    {
      "cell_type": "code",
      "execution_count": null,
      "metadata": {
        "execution": {
          "iopub.execute_input": "2022-03-06T03:36:33.569903Z",
          "iopub.status.busy": "2022-03-06T03:36:33.569599Z",
          "iopub.status.idle": "2022-03-06T03:36:33.770856Z",
          "shell.execute_reply": "2022-03-06T03:36:33.770114Z",
          "shell.execute_reply.started": "2022-03-06T03:36:33.569868Z"
        },
        "id": "N7M8Ia4DdddD",
        "trusted": true
      },
      "outputs": [],
      "source": [
        "y_pred = model.predict(X_test)"
      ]
    },
    {
      "cell_type": "code",
      "execution_count": null,
      "metadata": {
        "execution": {
          "iopub.execute_input": "2022-03-06T03:36:43.782192Z",
          "iopub.status.busy": "2022-03-06T03:36:43.781671Z",
          "iopub.status.idle": "2022-03-06T03:36:43.789507Z",
          "shell.execute_reply": "2022-03-06T03:36:43.788484Z",
          "shell.execute_reply.started": "2022-03-06T03:36:43.782156Z"
        },
        "id": "tTDSeaFgdddD",
        "trusted": true
      },
      "outputs": [],
      "source": [
        "y_pred"
      ]
    },
    {
      "cell_type": "code",
      "execution_count": null,
      "metadata": {
        "execution": {
          "iopub.execute_input": "2022-03-06T03:36:53.420271Z",
          "iopub.status.busy": "2022-03-06T03:36:53.41984Z",
          "iopub.status.idle": "2022-03-06T03:36:53.425184Z",
          "shell.execute_reply": "2022-03-06T03:36:53.424317Z",
          "shell.execute_reply.started": "2022-03-06T03:36:53.420233Z"
        },
        "id": "I4l1wItpdddD",
        "trusted": true
      },
      "outputs": [],
      "source": [
        "y_pred = y_pred.argmax(axis=-1)"
      ]
    },
    {
      "cell_type": "code",
      "execution_count": null,
      "metadata": {
        "execution": {
          "iopub.execute_input": "2022-03-06T03:37:01.490157Z",
          "iopub.status.busy": "2022-03-06T03:37:01.489866Z",
          "iopub.status.idle": "2022-03-06T03:37:01.498513Z",
          "shell.execute_reply": "2022-03-06T03:37:01.497608Z",
          "shell.execute_reply.started": "2022-03-06T03:37:01.490129Z"
        },
        "id": "xWmWo4vOdddE",
        "trusted": true
      },
      "outputs": [],
      "source": [
        "from sklearn.metrics import accuracy_score\n",
        "accuracy_score(y_test,y_pred)"
      ]
    },
    {
      "cell_type": "code",
      "execution_count": null,
      "metadata": {
        "execution": {
          "iopub.execute_input": "2022-03-06T03:37:10.534504Z",
          "iopub.status.busy": "2022-03-06T03:37:10.534076Z",
          "iopub.status.idle": "2022-03-06T03:37:10.742592Z",
          "shell.execute_reply": "2022-03-06T03:37:10.741662Z",
          "shell.execute_reply.started": "2022-03-06T03:37:10.534473Z"
        },
        "id": "AyYD6Mb3dddE",
        "trusted": true
      },
      "outputs": [],
      "source": [
        "# import matplotlib.pyplot as plt\n",
        "#will show you the extent of overfitting on training data =difference between two graph\n",
        "\n",
        "# plt.plot(history.history['loss'])\n",
        "# plt.plot(history.history['val_loss'])"
      ]
    },
    {
      "cell_type": "code",
      "execution_count": null,
      "metadata": {
        "execution": {
          "iopub.execute_input": "2022-03-06T03:37:24.164195Z",
          "iopub.status.busy": "2022-03-06T03:37:24.163624Z",
          "iopub.status.idle": "2022-03-06T03:37:24.378329Z",
          "shell.execute_reply": "2022-03-06T03:37:24.377501Z",
          "shell.execute_reply.started": "2022-03-06T03:37:24.16415Z"
        },
        "id": "6yQ2Uh_mdddE",
        "trusted": true
      },
      "outputs": [],
      "source": [
        "plt.plot(history.history['accuracy'])\n",
        "# plt.plot(history.history['val_accuracy'])"
      ]
    },
    {
      "cell_type": "code",
      "execution_count": null,
      "metadata": {
        "id": "Dq65putLdddE"
      },
      "outputs": [],
      "source": []
    }
  ],
  "metadata": {
    "colab": {
      "name": "notebook8ad570467f",
      "provenance": []
    },
    "kernelspec": {
      "display_name": "Python 3",
      "language": "python",
      "name": "python3"
    },
    "language_info": {
      "codemirror_mode": {
        "name": "ipython",
        "version": 3
      },
      "file_extension": ".py",
      "mimetype": "text/x-python",
      "name": "python",
      "nbconvert_exporter": "python",
      "pygments_lexer": "ipython3",
      "version": "3.6.4"
    }
  },
  "nbformat": 4,
  "nbformat_minor": 0
}
